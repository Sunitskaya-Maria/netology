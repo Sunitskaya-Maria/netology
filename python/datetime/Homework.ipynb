{
 "cells": [
  {
   "cell_type": "code",
   "execution_count": 6,
   "metadata": {},
   "outputs": [
    {
     "name": "stdout",
     "output_type": "stream",
     "text": [
      "2002-10-02\n",
      "2013-11-10 00:00:00\n",
      "1977-08-18 00:00:00\n"
     ]
    }
   ],
   "source": [
    "from datetime import datetime, timedelta\n",
    "\n",
    "\n",
    "format_ = \"The Moscow Times - Wednesday, October 2, 2002\"\n",
    "index = format_.find('-')\n",
    "format_ = format_[index + 2:]\n",
    "new_format = datetime.strptime(format_, '%A, %B %d, %Y')\n",
    "print(new_format.date())\n",
    "\n",
    "format_ = \"The Guardian - Friday, 11.10.13\"\n",
    "index = format_.find('-')\n",
    "format_ = format_[index + 2:]\n",
    "new_format = datetime.strptime(format_, '%A, %m.%d.%y')\n",
    "print(new_format)\n",
    "\n",
    "format_ = \"Daily News - Thursday, 18 August 1977\"\n",
    "index = format_.find('-')\n",
    "format_ = format_[index + 2:]\n",
    "new_format = datetime.strptime(format_, '%A, %d %B %Y')\n",
    "print(new_format)"
   ]
  },
  {
   "cell_type": "code",
   "execution_count": 4,
   "metadata": {},
   "outputs": [
    {
     "name": "stdout",
     "output_type": "stream",
     "text": [
      "True\n",
      "False\n",
      "False\n"
     ]
    }
   ],
   "source": [
    "stream = [\"2018-04-02\", \"2018-02-29\", \"2018-19-02\"]\n",
    "\n",
    "def good_stream(elem):\n",
    "    try:\n",
    "        datetime.strptime(elem, \"%Y-%m-%d\")\n",
    "        return True\n",
    "    except ValueError:\n",
    "        return False\n",
    "\n",
    "\n",
    "for i in stream:\n",
    "    print(good_stream(i))"
   ]
  },
  {
   "cell_type": "code",
   "execution_count": 8,
   "metadata": {},
   "outputs": [
    {
     "name": "stdout",
     "output_type": "stream",
     "text": [
      "[]\n"
     ]
    }
   ],
   "source": [
    "def date_range():\n",
    "    try:\n",
    "        sp = []\n",
    "        start_date_dt = datetime.strptime(start_date, '%Y-%m-%d')\n",
    "        end_date_dt = datetime.strptime(end_date, '%Y-%m-%d')\n",
    "        while start_date_dt <= end_date_dt:\n",
    "            sp.append(start_date_dt.strftime('%Y-%m-%d'))\n",
    "\n",
    "            start_date_dt += timedelta(days=1)\n",
    "        return sp\n",
    "    except ValueError:\n",
    "        return []\n",
    "\n",
    "\n",
    "start_date = '2018-01-01'\n",
    "end_date = '2017-12-31'\n",
    "print(date_range())"
   ]
  },
  {
   "cell_type": "code",
   "execution_count": 2,
   "metadata": {},
   "outputs": [
    {
     "data": {
      "text/plain": [
       "'При первом вызове функции удаляется последний элемент списка, после этого функция возвращает ID нового пользователя, то есть вызывается элемент по индексу 3-2 = 1. Когда происходит второй вызов функции, то мы снова удаляем элемент и функция снова должна вернуть ID последнего пользователя. Так как изначально в списке было 3 элемента, то находился правильный индекс. За 2 вызова функции удалилось 2 элемента. Сейчас в списке 1 элемент, а значит у него индекс равен 0. Функция возвращает элемент по индексу 3-2=1, но такого индекса нет. Поэтому возникает ошибка. Ошибка list index out of range. Она обозначает, что мы вышли за пределы списка - такого элемента не существует.'"
      ]
     },
     "execution_count": 2,
     "metadata": {},
     "output_type": "execute_result"
    }
   ],
   "source": [
    "\"\"\"При первом вызове функции удаляется последний элемент списка, после этого функция возвращает ID нового пользователя, то есть вызывается элемент по индексу 3-2 = 1. Когда происходит второй вызов функции, то мы снова удаляем элемент и функция снова должна вернуть ID последнего пользователя. Так как изначально в списке было 3 элемента, то находился правильный индекс. За 2 вызова функции удалилось 2 элемента. Сейчас в списке 1 элемент, а значит у него индекс равен 0. Функция возвращает элемент по индексу 3-2=1, но такого индекса нет. Поэтому возникает ошибка. Ошибка list index out of range. Она обозначает, что мы вышли за пределы списка - такого элемента не существует.\"\"\""
   ]
  },
  {
   "cell_type": "code",
   "execution_count": null,
   "metadata": {},
   "outputs": [],
   "source": []
  }
 ],
 "metadata": {
  "kernelspec": {
   "display_name": "Python 3",
   "language": "python",
   "name": "python3"
  },
  "language_info": {
   "codemirror_mode": {
    "name": "ipython",
    "version": 3
   },
   "file_extension": ".py",
   "mimetype": "text/x-python",
   "name": "python",
   "nbconvert_exporter": "python",
   "pygments_lexer": "ipython3",
   "version": "3.8.5"
  }
 },
 "nbformat": 4,
 "nbformat_minor": 4
}
