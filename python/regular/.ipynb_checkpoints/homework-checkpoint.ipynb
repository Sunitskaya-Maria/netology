{
 "cells": [
  {
   "cell_type": "code",
   "execution_count": null,
   "metadata": {},
   "outputs": [],
   "source": [
    "def gosmoner(number):\n",
    "    correct_number = re.findall(r\"(^[АВЕКМНОРСТУХ]\\d{3}(?<!000)[АВЕКМНОРСТУХ]{2})(\\d{2,3})\", number)\n",
    "    if correct_number:\n",
    "        number_ = correct_number[0][0]\n",
    "        region = correct_number[0][1]\n",
    "        print(f\"Номер валиден {number_}. Регион: {region}\")\n",
    "    else:\n",
    "        print(\"Номер не валиден\")\n",
    "\n",
    "\n",
    "gosmoner(\"А122ВВ193\")"
   ]
  },
  {
   "cell_type": "code",
   "execution_count": null,
   "metadata": {},
   "outputs": [],
   "source": [
    "def excess_word(st):\n",
    "    print(re.sub(r'(\\w+)(\\s+\\1)+', r'\\1', st))\n",
    "\n",
    "\n",
    "excess_word(\n",
    "    \"Напишите функцию функцию, которая будет будет будет будет удалять все все все все последовательные повторы слов из из из из заданной строки строки при помощи регулярных выражений выражений.\")"
   ]
  },
  {
   "cell_type": "code",
   "execution_count": null,
   "metadata": {},
   "outputs": [],
   "source": [
    "def akronim(st):\n",
    "    text = re.sub(r\"\\b(\\w)\\w+\\s?\", r\"\\1\", st)\n",
    "    print(text.upper())\n",
    "\n",
    "\n",
    "akronim(\"Near Field Communication\")"
   ]
  },
  {
   "cell_type": "code",
   "execution_count": null,
   "metadata": {},
   "outputs": [],
   "source": [
    "emails = [\"test@gmail.com\", \"xyz@test.in\", \"test@ya.ru\", \"xyz@mail.ru\", \"xyz@ya.ru\", \"xyz@gmail.com\"]\n",
    "\n",
    "\n",
    "def domen(emails):\n",
    "    d = {}\n",
    "    for i in emails:\n",
    "        i = re.findall(r'@\\w+\\.\\w+', i)\n",
    "        if i[0] not in d:\n",
    "            d[i[0]] = 1\n",
    "        else:\n",
    "            d[i[0]] += 1\n",
    "    for key, value in d.items():\n",
    "        print(key[1:], \":\", value)\n",
    "\n",
    "\n",
    "domen(emails)"
   ]
  },
  {
   "cell_type": "code",
   "execution_count": null,
   "metadata": {},
   "outputs": [],
   "source": [
    "some_text = \"Эталонной реализацией Python является интерпретатор CPython, поддерживающий большинство активно используемых платформ. Он распространяется под свободной лицензией Python Software Foundation License, позволяющей использовать его без ограничений в любых приложениях, включая проприетарные.\"\n",
    "\n",
    "\n",
    "def symbols(text):\n",
    "    first_symbol_vowels = re.findall(r\"\\b[аяоеуюыиэaeiouy]\", text, re.IGNORECASE)\n",
    "    print(f\"Слов на гласные буквы: {len(first_symbol_vowels)}\")\n",
    "    first_symbol_consonants = re.findall(r\"\\b[бвгджзйклмнпрстфхцчшщbcdfghjklmnpqrstvwxyz]\", text, re.IGNORECASE)\n",
    "    print(f\"Слов на согласные буквы: {len(first_symbol_consonants)}\")\n",
    "\n",
    "\n",
    "symbols(some_text)"
   ]
  }
 ],
 "metadata": {
  "kernelspec": {
   "display_name": "Python 3",
   "language": "python",
   "name": "python3"
  },
  "language_info": {
   "codemirror_mode": {
    "name": "ipython",
    "version": 3
   },
   "file_extension": ".py",
   "mimetype": "text/x-python",
   "name": "python",
   "nbconvert_exporter": "python",
   "pygments_lexer": "ipython3",
   "version": "3.8.5"
  }
 },
 "nbformat": 4,
 "nbformat_minor": 4
}
