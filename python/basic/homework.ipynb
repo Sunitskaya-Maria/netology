{
 "cells": [
  {
   "cell_type": "code",
   "execution_count": 5,
   "metadata": {},
   "outputs": [
    {
     "name": "stdout",
     "output_type": "stream",
     "text": [
      "Фраза 1 длиннее фразы 2\n"
     ]
    }
   ],
   "source": [
    "phrase_1 = len(\"Насколько проще было бы писать программы, если бы не заказчики\")\n",
    "\n",
    "phrase_2 = len(\"640Кб должно хватить для любых задач. Билл Гейтс (по легенде)\")\n",
    "\n",
    "\n",
    "\n",
    "if phrase_1 < phrase_2:\n",
    "\n",
    "    print('Фраза 2 длиннее фразы 1')\n",
    "\n",
    "elif phrase_1==phrase_2:\n",
    "\n",
    "    print('Фразы равной длины')\n",
    "\n",
    "else:\n",
    "\n",
    "    print('Фраза 1 длиннее фразы 2')"
   ]
  },
  {
   "cell_type": "code",
   "execution_count": 4,
   "metadata": {},
   "outputs": [
    {
     "name": "stdout",
     "output_type": "stream",
     "text": [
      "Обычный год\n"
     ]
    }
   ],
   "source": [
    "year = 2019\n",
    "\n",
    "if (year % 4 == 0) and (year % 100 != 0) or (year % 400 == 0):\n",
    "\n",
    "    print('Високосный год')\n",
    "\n",
    "else:\n",
    "\n",
    "    print('Обычный год')"
   ]
  },
  {
   "cell_type": "code",
   "execution_count": 3,
   "metadata": {},
   "outputs": [
    {
     "name": "stdout",
     "output_type": "stream",
     "text": [
      "30\n",
      "Ноябрь\n",
      "Вы стрелец\n"
     ]
    }
   ],
   "source": [
    "day = int(input())\n",
    "\n",
    "month = input()\n",
    "\n",
    "\n",
    "\n",
    "if (day >= 21) and (month == \"Март\") or (day <= 19) and (month == \"Апрель\"):\n",
    "\n",
    "    print('Вы овен')\n",
    "\n",
    "elif (day >= 20) and (month == \"Апрель\") or (day <= 20) and (month == \"Май\"):\n",
    "\n",
    "    print('Вы телец')\n",
    "\n",
    "elif (day >= 21) and (month == \"Май\") or (day <= 20) and (month == \"Июнь\"):\n",
    "\n",
    "    print('Вы близнецы')\n",
    "\n",
    "elif(day >= 21) and (month == \"Июнь\") or (day <= 22) and (month == \"Июль\"):\n",
    "\n",
    "    print('Вы рак')\n",
    "\n",
    "elif(day >= 23) and (month == \"Июль\") or (day <= 22) and (month == \"Август\"):\n",
    "\n",
    "    print('Вы лев')\n",
    "\n",
    "elif (day >= 23) and (month == \"Август\") or (day <= 22) and (month == \"Сентябрь\"):\n",
    "\n",
    "    print('Вы дева')\n",
    "\n",
    "elif (day >= 23) and (month == \"Сентябрь\") or (day <= 22) and (month == \"Октябрь\"):\n",
    "\n",
    "    print('Вы весы')\n",
    "\n",
    "elif (day >= 23) and (month == \"Октябрь\") or (day <= 21) and (month == \"Ноябрь\"):\n",
    "\n",
    "    print('Вы скорпион')\n",
    "\n",
    "elif (day >= 22) and (month == \"Ноябрь\") or (day <= 21) and (month == \"Декабрь\"):\n",
    "\n",
    "    print('Вы стрелец')\n",
    "\n",
    "elif (day >= 22) and (month == \"Декабрь\") or (day <= 19) and (month == \"Январь\"):\n",
    "\n",
    "    print('Вы козерог')\n",
    "\n",
    "elif (day >= 20) and (month == \"Январь\") or (day <= 18) and (month == \"Февраль\"):\n",
    "\n",
    "    print('Вы водолей')\n",
    "\n",
    "elif (day >= 11) and (month == \"Февраль\") or (day <= 20) and (month == \"Март\"):\n",
    "\n",
    "    print('Вы рыбы')\n",
    "\n",
    "else:\n",
    "\n",
    "    print('Вы не правильно ввели дату')"
   ]
  },
  {
   "cell_type": "code",
   "execution_count": 2,
   "metadata": {},
   "outputs": [
    {
     "name": "stdout",
     "output_type": "stream",
     "text": [
      "Стандартная коробка №3\n"
     ]
    }
   ],
   "source": [
    "width = 10\n",
    "\n",
    "length = 80\n",
    "\n",
    "height = 10\n",
    "\n",
    "\n",
    "\n",
    "if (width < 15) and (length < 15) and (height < 15):\n",
    "\n",
    "    print(\"Коробка №1\")\n",
    "\n",
    "elif (width < 50) and (length < 50) and (height < 50):\n",
    "\n",
    "    print(\"Коробка №2\")\n",
    "\n",
    "elif(length > 200):\n",
    "\n",
    "    print('Упаковка для лыж')\n",
    "\n",
    "else:\n",
    "\n",
    "    print('Стандартная коробка №3')"
   ]
  }
 ],
 "metadata": {
  "kernelspec": {
   "display_name": "Python 3",
   "language": "python",
   "name": "python3"
  },
  "language_info": {
   "codemirror_mode": {
    "name": "ipython",
    "version": 3
   },
   "file_extension": ".py",
   "mimetype": "text/x-python",
   "name": "python",
   "nbconvert_exporter": "python",
   "pygments_lexer": "ipython3",
   "version": "3.8.5"
  }
 },
 "nbformat": 4,
 "nbformat_minor": 4
}
