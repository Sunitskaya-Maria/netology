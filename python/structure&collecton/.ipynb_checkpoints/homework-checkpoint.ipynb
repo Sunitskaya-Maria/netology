{
 "cells": [
  {
   "cell_type": "code",
   "execution_count": null,
   "metadata": {},
   "outputs": [],
   "source": [
    "word = \"test\"\n",
    "\n",
    "count = len(word)\n",
    "check = count % 2\n",
    "even = count/2\n",
    "rounded = int(even)\n",
    "\n",
    "# Индексы для фильтрации чётных букв\n",
    "first_even = rounded - 1\n",
    "second_even = rounded + 1\n",
    "\n",
    "# Индексы для фильтрации не чётной буквы\n",
    "first_odd = rounded\n",
    "second_odd = rounded + 1\n",
    "\n",
    "if check == 1:\n",
    "    filter_odd = word[first_odd:second_odd]\n",
    "    print(filter_odd)\n",
    "\n",
    "else:\n",
    "    filter_even = word[first_even:second_even]\n",
    "    print(filter_even)"
   ]
  },
  {
   "cell_type": "code",
   "execution_count": null,
   "metadata": {},
   "outputs": [],
   "source": [
    "total = 0\n",
    "number = int(input())\n",
    "\n",
    "while number != 0:\n",
    "    total = total + number\n",
    "    number = int(input())\n",
    "else:\n",
    "    print(total)"
   ]
  },
  {
   "cell_type": "code",
   "execution_count": 7,
   "metadata": {},
   "outputs": [
    {
     "name": "stdout",
     "output_type": "stream",
     "text": [
      "Внимание, кто-то может остаться без пары!\n"
     ]
    }
   ],
   "source": [
    "boys = ['Peter', 'Alex', 'John', 'Arthur', 'Richard']\n",
    "girls = ['Kate', 'Liza', 'Kira', 'Emma', 'Trisha']\n",
    "\n",
    "sorted_boys = sorted(boys)\n",
    "sorted_girls = sorted(girls)\n",
    "\n",
    "people = zip(sorted_boys, sorted_girls)\n",
    "count_boys = len(boys)\n",
    "count_girls = len(girls)\n",
    "\n",
    "l = list(people)\n",
    "if count_boys == count_girls:\n",
    "    print(l)  \n",
    "else:\n",
    "    print('Внимание, кто-то может остаться без пары!')"
   ]
  },
  {
   "cell_type": "code",
   "execution_count": 38,
   "metadata": {},
   "outputs": [
    {
     "name": "stdout",
     "output_type": "stream",
     "text": [
      "Alex и Emma\n",
      "Arthur и Kate\n",
      "John и Kira\n",
      "Peter и Liza\n",
      "Richard и Trisha\n"
     ]
    }
   ],
   "source": [
    "boys = ['Peter', 'Alex', 'John', 'Arthur', 'Richard']\n",
    "girls = ['Kate', 'Liza', 'Kira', 'Emma', 'Trisha']\n",
    "\n",
    "sorted_boys = sorted(boys)\n",
    "sorted_girls = sorted(girls)\n",
    "\n",
    "count_boys = len(boys)\n",
    "count_girls = len(girls)\n",
    "\n",
    "if count_boys == count_girls:\n",
    "    people = zip(sorted_boys, sorted_girls)\n",
    "    l = list(people)\n",
    "    for x in l:\n",
    "        pairs = list(x)\n",
    "        men = pairs[0]\n",
    "        women = pairs[1]\n",
    "        match = men + \" и \" + women\n",
    "        print(match)\n",
    "else:\n",
    "    print('Внимание, кто-то может остаться без пары!')\n"
   ]
  },
  {
   "cell_type": "code",
   "execution_count": 21,
   "metadata": {},
   "outputs": [
    {
     "name": "stdout",
     "output_type": "stream",
     "text": [
      "23.9\n",
      "13.8\n",
      "3.7\n",
      "12.0\n"
     ]
    }
   ],
   "source": [
    "countries_temperature = [\n",
    "    ['Thailand', [75.2, 77, 78.8, 73.4, 68, 75.2, 77]],\n",
    "    ['Germany', [57.2, 55.4, 59, 59, 53.6]],\n",
    "    ['Russia', [35.6, 37.4, 39.2, 41, 42.8, 39.2, 35.6]],\n",
    "    ['Poland', [50, 50, 53.6, 57.2, 55.4, 55.4]]\n",
    "]\n",
    "\n",
    "for x in countries_temperature:\n",
    "    all_temperature = x[1]\n",
    "    sum_temperature = sum(all_temperature)\n",
    "    count_temperature = len(all_temperature)\n",
    "    average_temperature = sum_temperature / count_temperature\n",
    "    average_celsius = round((average_temperature - 32) * 5/9, 1)    \n",
    "    print(average_celsius)"
   ]
  },
  {
   "cell_type": "code",
   "execution_count": null,
   "metadata": {},
   "outputs": [],
   "source": []
  }
 ],
 "metadata": {
  "kernelspec": {
   "display_name": "Python 3",
   "language": "python",
   "name": "python3"
  },
  "language_info": {
   "codemirror_mode": {
    "name": "ipython",
    "version": 3
   },
   "file_extension": ".py",
   "mimetype": "text/x-python",
   "name": "python",
   "nbconvert_exporter": "python",
   "pygments_lexer": "ipython3",
   "version": "3.8.5"
  }
 },
 "nbformat": 4,
 "nbformat_minor": 4
}
