{
 "cells": [
  {
   "cell_type": "code",
   "execution_count": null,
   "metadata": {},
   "outputs": [],
   "source": [
    "word = \"test\"\n",
    "\n",
    "count = len(word)\n",
    "check = count % 2\n",
    "even = count/2\n",
    "rounded = int(even)\n",
    "\n",
    "# Индексы для фильтрации чётных букв\n",
    "first_even = rounded - 1\n",
    "second_even = rounded + 1\n",
    "\n",
    "# Индексы для фильтрации не чётной буквы\n",
    "first_odd = rounded\n",
    "second_odd = rounded + 1\n",
    "\n",
    "if check == 1:\n",
    "    filter_odd = word[first_odd:second_odd]\n",
    "    print(filter_odd)\n",
    "\n",
    "else:\n",
    "    filter_even = word[first_even:second_even]\n",
    "    print(filter_even)"
   ]
  },
  {
   "cell_type": "code",
   "execution_count": null,
   "metadata": {},
   "outputs": [],
   "source": [
    "total = 0\n",
    "number = int(input())\n",
    "\n",
    "while number != 0:\n",
    "    total = total + number\n",
    "    number = int(input())\n",
    "else:\n",
    "    print(total)"
   ]
  },
  {
   "cell_type": "code",
   "execution_count": 7,
   "metadata": {},
   "outputs": [
    {
     "name": "stdout",
     "output_type": "stream",
     "text": [
      "Внимание, кто-то может остаться без пары!\n"
     ]
    }
   ],
   "source": [
    "boys = ['Peter', 'Alex', 'John', 'Arthur', 'Richard']\n",
    "girls = ['Kate', 'Liza', 'Kira', 'Emma', 'Trisha']\n",
    "\n",
    "sorted_boys = sorted(boys)\n",
    "sorted_girls = sorted(girls)\n",
    "\n",
    "people = zip(sorted_boys, sorted_girls)\n",
    "count_boys = len(boys)\n",
    "count_girls = len(girls)\n",
    "\n",
    "l = list(people)\n",
    "if count_boys == count_girls:\n",
    "    print(l)  \n",
    "else:\n",
    "    print('Внимание, кто-то может остаться без пары!')"
   ]
  },
  {
   "cell_type": "code",
   "execution_count": null,
   "metadata": {},
   "outputs": [],
   "source": [
    "countries_temperature = [\n",
    "    ['Thailand', [75.2, 77, 78.8, 73.4, 68, 75.2, 77]],\n",
    "    ['Germany', [57.2, 55.4, 59, 59, 53.6]],\n",
    "    ['Russia', [35.6, 37.4, 39.2, 41, 42.8, 39.2, 35.6]],\n",
    "    ['Poland', [50, 50, 53.6, 57.2, 55.4, 55.4]]\n",
    "]\n",
    "\n",
    "all_temperature_thailand = sum(countries_temperature[0][1])\n",
    "count_temperature_thailand = len(countries_temperature[0][1])\n",
    "average_temperature_thailand = all_temperature_thailand / count_temperature_thailand\n",
    "average_celsius_thailand = round((average_temperature_thailand - 32) * 5/9, 1)\n",
    "\n",
    "all_temperature_germany = sum(countries_temperature[1][1])\n",
    "count_temperature_germany = len(countries_temperature[1][1])\n",
    "average_temperature_germany = all_temperature_germany / count_temperature_germany\n",
    "average_celsius_germany = round((average_temperature_germany - 32) * 5/9, 1)\n",
    "\n",
    "all_temperature_russia = sum(countries_temperature[2][1])\n",
    "count_temperature_russia = len(countries_temperature[2][1])\n",
    "average_temperature_russia = all_temperature_russia / count_temperature_russia\n",
    "average_celsius_russia = round((average_temperature_russia - 32) * 5/9, 1)\n",
    "\n",
    "all_temperature_poland = sum(countries_temperature[3][1])\n",
    "count_temperature_poland = len(countries_temperature[3][1])\n",
    "average_temperature_poland = all_temperature_poland / count_temperature_poland\n",
    "average_celsius_poland = round((average_temperature_poland - 32) * 5/9, 1)\n",
    "\n",
    "print(f\"Средняя температура в странах: Thailand - {average_celsius_thailand} С Germany - {average_celsius_germany} С Russia - {average_celsius_russia} С Poland - {average_celsius_poland} С\")"
   ]
  },
  {
   "cell_type": "code",
   "execution_count": null,
   "metadata": {},
   "outputs": [],
   "source": []
  }
 ],
 "metadata": {
  "kernelspec": {
   "display_name": "Python 3",
   "language": "python",
   "name": "python3"
  },
  "language_info": {
   "codemirror_mode": {
    "name": "ipython",
    "version": 3
   },
   "file_extension": ".py",
   "mimetype": "text/x-python",
   "name": "python",
   "nbconvert_exporter": "python",
   "pygments_lexer": "ipython3",
   "version": "3.8.5"
  }
 },
 "nbformat": 4,
 "nbformat_minor": 4
}
